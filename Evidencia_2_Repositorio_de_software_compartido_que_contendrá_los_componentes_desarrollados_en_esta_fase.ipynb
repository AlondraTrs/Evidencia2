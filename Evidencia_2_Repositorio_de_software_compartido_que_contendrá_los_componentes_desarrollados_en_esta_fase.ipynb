{
  "nbformat": 4,
  "nbformat_minor": 0,
  "metadata": {
    "colab": {
      "provenance": [],
      "authorship_tag": "ABX9TyM1I0zelF+nrip6a07kebSM",
      "include_colab_link": true
    },
    "kernelspec": {
      "name": "python3",
      "display_name": "Python 3"
    },
    "language_info": {
      "name": "python"
    }
  },
  "cells": [
    {
      "cell_type": "markdown",
      "metadata": {
        "id": "view-in-github",
        "colab_type": "text"
      },
      "source": [
        "<a href=\"https://colab.research.google.com/github/AlondraTrs/Evidencia2/blob/main/Evidencia_2_Repositorio_de_software_compartido_que_contendr%C3%A1_los_componentes_desarrollados_en_esta_fase.ipynb\" target=\"_parent\"><img src=\"https://colab.research.google.com/assets/colab-badge.svg\" alt=\"Open In Colab\"/></a>"
      ]
    },
    {
      "cell_type": "markdown",
      "source": [
        "**43 - Declaración de una clase y creación de objetos**"
      ],
      "metadata": {
        "id": "QGg4hulp_cnc"
      }
    },
    {
      "cell_type": "code",
      "execution_count": null,
      "metadata": {
        "id": "_9_M1ifU_YIm"
      },
      "outputs": [],
      "source": [
        "class Persona:\n",
        "\n",
        "    def inicializar(self,nom):\n",
        "        self.nombre=nom\n",
        "\n",
        "    def imprimir(self):\n",
        "        print(\"Nombre\",self.nombre)\n",
        "\n",
        "\n",
        "# bloque principal\n",
        "\n",
        "persona1=Persona()\n",
        "persona1.inicializar(\"Pedro\")\n",
        "persona1.imprimir()\n",
        "\n",
        "persona2=Persona()\n",
        "persona2.inicializar(\"Carla\")\n",
        "persona2.imprimir()"
      ]
    },
    {
      "cell_type": "code",
      "source": [
        "class Alumno:\n",
        "\n",
        "    def inicializar(self,nombre,nota):\n",
        "        self.nombre=nombre\n",
        "        self.nota=nota\n",
        "\n",
        "    def imprimir(self):\n",
        "        print(\"Nombre:\",self.nombre)\n",
        "        print(\"Nota:\",self.nota)\n",
        "\n",
        "    def mostrar_estado(self):\n",
        "        if self.nota>=4:\n",
        "            print(\"Regular\")\n",
        "        else:\n",
        "            print(\"Libre\")\n",
        "\n",
        "\n",
        "# bloque principal\n",
        "\n",
        "alumno1=Alumno()\n",
        "alumno1.inicializar(\"diego\",2)\n",
        "alumno1.imprimir()\n",
        "alumno1.mostrar_estado()\n",
        "\n",
        "alumno2=Alumno()\n",
        "alumno2.inicializar(\"ana\",10)\n",
        "alumno2.imprimir()\n",
        "alumno2.mostrar_estado()"
      ],
      "metadata": {
        "id": "1fWNiPAN_oxl"
      },
      "execution_count": null,
      "outputs": []
    },
    {
      "cell_type": "code",
      "source": [
        "class Persona:\n",
        "\n",
        "    def inicializar(self,nombre,edad):\n",
        "        self.nombre=nombre\n",
        "        self.edad=edad\n",
        "\n",
        "    def imprimir(self):\n",
        "        print(\"Nombre\",self.nombre)\n",
        "        print(\"Edad\",self.edad)\n",
        "\n",
        "    def mayor_edad(self):\n",
        "        if self.edad>=18:\n",
        "            print(\"Es mayor de edad\")\n",
        "        else:\n",
        "            print(\"No es mayor de edad\")\n",
        "\n",
        "\n",
        "# bloque principal\n",
        "\n",
        "persona1=Persona()\n",
        "persona1.inicializar(\"diego\",40)\n",
        "persona1.imprimir()\n",
        "persona1.mayor_edad()"
      ],
      "metadata": {
        "id": "BNIH9vGT_r42"
      },
      "execution_count": null,
      "outputs": []
    },
    {
      "cell_type": "code",
      "source": [
        "class Triangulo:\n",
        "\n",
        "    def inicializar(self):\n",
        "        self.lado1=int(input(\"Ingrese primer lado:\"))\n",
        "        self.lado2=int(input(\"Ingrese segundo lado:\"))\n",
        "        self.lado3=int(input(\"Ingrese tercer lado:\"))\n",
        "\n",
        "    def imprimir(self):\n",
        "        print(\"Valores de los lados del triangulo\")\n",
        "        print(\"Lado 1\",self.lado1)\n",
        "        print(\"Lado 2\",self.lado2)\n",
        "        print(\"Lado 3\",self.lado3)\n",
        "\n",
        "    def lado_mayor(self):\n",
        "        print(\"Lado mayor\")\n",
        "        if self.lado1>self.lado2 and self.lado1>self.lado3:\n",
        "            print(self.lado1)\n",
        "        else:\n",
        "            if self.lado2>self.lado3:\n",
        "                print(self.lado2)\n",
        "            else:\n",
        "                print(self.lado3)\n",
        "\n",
        "    def es_equilatero(self):\n",
        "        if self.lado1==self.lado2 and self.lado1==self.lado3:\n",
        "            print(\"El triangulo es equilatero\")\n",
        "        else:\n",
        "            print(\"El triangulo no es equilatero\")\n",
        "\n",
        "\n",
        "# bloque principal\n",
        "\n",
        "triangulo1=Triangulo()\n",
        "triangulo1.inicializar()\n",
        "triangulo1.imprimir()\n",
        "triangulo1.lado_mayor()\n",
        "triangulo1.es_equilatero()"
      ],
      "metadata": {
        "id": "DStiO8q5_yeb"
      },
      "execution_count": null,
      "outputs": []
    }
  ]
}